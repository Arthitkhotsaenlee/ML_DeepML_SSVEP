{
 "cells": [
  {
   "cell_type": "code",
   "execution_count": 1,
   "id": "4372eb35",
   "metadata": {},
   "outputs": [],
   "source": [
    "# Import python library\n",
    "import numpy as np\n",
    "import mne\n",
    "import matplotlib.pyplot as plt\n",
    "%matplotlib notebook"
   ]
  },
  {
   "cell_type": "code",
   "execution_count": 2,
   "id": "3641077f",
   "metadata": {},
   "outputs": [
    {
     "name": "stdout",
     "output_type": "stream",
     "text": [
      "Leaving device<->head transform as None (no landmarks found)\n",
      "Event file found. Extracting Annotations from C:\\Users\\OWNER\\Desktop\\Arthit Learn to Analysis EEG\\SSVEP and EEGnet\\Data\\SSVEP1.ceo...\n"
     ]
    }
   ],
   "source": [
    "# read raw SSVEP data\n",
    "raw=mne.io.read_raw_curry('.\\Data\\SSVEP1.dat')"
   ]
  },
  {
   "cell_type": "code",
   "execution_count": 3,
   "id": "7f3f1673",
   "metadata": {
    "scrolled": true
   },
   "outputs": [
    {
     "data": {
      "text/html": [
       "\n",
       "\n",
       "<table class=\"table table-hover table-striped table-sm table-responsive small\">\n",
       "    <tr>\n",
       "        <th>Measurement date</th>\n",
       "        <td>October 18, 2019  18:15:44 GMT</td>\n",
       "        \n",
       "    </tr>\n",
       "    <tr>\n",
       "        <th>Experimenter</th>\n",
       "<td>Unknown</td>\n",
       "    </tr>\n",
       "        <th>Participant</th>\n",
       "<td>Unknown</td>\n",
       "    </tr>\n",
       "    <tr>\n",
       "        <th>Digitized points</th>\n",
       "        <td>Not available</td>\n",
       "    </tr>\n",
       "    <tr>\n",
       "        <th>Good channels</th>\n",
       "        <td>122 EEG</td>\n",
       "    </tr>\n",
       "    <tr>\n",
       "        <th>Bad channels</th>\n",
       "        <td>None</td>\n",
       "    </tr>\n",
       "    <tr>\n",
       "        <th>EOG channels</th>\n",
       "        <td>Not available</td>\n",
       "    </tr>\n",
       "    <tr>\n",
       "        <th>ECG channels</th>\n",
       "        <td>Not available</td>\n",
       "    <tr>\n",
       "        <th>Sampling frequency</th>\n",
       "        <td>1000.00 Hz</td>\n",
       "    </tr>\n",
       "    <tr>\n",
       "        <th>Highpass</th>\n",
       "        <td>0.00 Hz</td>\n",
       "    </tr>\n",
       "    <tr>\n",
       "        <th>Lowpass</th>\n",
       "        <td>500.00 Hz</td>\n",
       "    </tr>\n",
       "\n",
       "    <tr>\n",
       "        <th>Filenames</th>\n",
       "        <td>SSVEP1.dat</td>\n",
       "    </tr>\n",
       "    <tr>\n",
       "        <th>Duration</th>\n",
       "        <td>00:07:38 (HH:MM:SS)</td>\n",
       "    </tr>\n",
       "</table>\n"
      ],
      "text/plain": [
       "<RawCurry | SSVEP1.dat, 122 x 458500 (458.5 s), ~116 kB, data not loaded>"
      ]
     },
     "execution_count": 3,
     "metadata": {},
     "output_type": "execute_result"
    }
   ],
   "source": [
    "#pick only eeg\n",
    "raw.pick_types(eeg=True)"
   ]
  },
  {
   "cell_type": "code",
   "execution_count": 4,
   "id": "0201d618",
   "metadata": {},
   "outputs": [
    {
     "name": "stdout",
     "output_type": "stream",
     "text": [
      "Reading 0 ... 458499  =      0.000 ...   458.499 secs...\n",
      "Filtering raw data in 1 contiguous segment\n",
      "Setting up high-pass filter at 0.1 Hz\n",
      "\n",
      "IIR filter parameters\n",
      "---------------------\n",
      "Butterworth highpass zero-phase (two-pass forward and reverse) non-causal filter:\n",
      "- Filter order 8 (effective, after forward-backward)\n",
      "- Cutoff at 0.10 Hz: -6.02 dB\n",
      "\n"
     ]
    },
    {
     "data": {
      "text/html": [
       "\n",
       "\n",
       "<table class=\"table table-hover table-striped table-sm table-responsive small\">\n",
       "    <tr>\n",
       "        <th>Measurement date</th>\n",
       "        <td>October 18, 2019  18:15:44 GMT</td>\n",
       "        \n",
       "    </tr>\n",
       "    <tr>\n",
       "        <th>Experimenter</th>\n",
       "<td>Unknown</td>\n",
       "    </tr>\n",
       "        <th>Participant</th>\n",
       "<td>Unknown</td>\n",
       "    </tr>\n",
       "    <tr>\n",
       "        <th>Digitized points</th>\n",
       "        <td>Not available</td>\n",
       "    </tr>\n",
       "    <tr>\n",
       "        <th>Good channels</th>\n",
       "        <td>122 EEG</td>\n",
       "    </tr>\n",
       "    <tr>\n",
       "        <th>Bad channels</th>\n",
       "        <td>None</td>\n",
       "    </tr>\n",
       "    <tr>\n",
       "        <th>EOG channels</th>\n",
       "        <td>Not available</td>\n",
       "    </tr>\n",
       "    <tr>\n",
       "        <th>ECG channels</th>\n",
       "        <td>Not available</td>\n",
       "    <tr>\n",
       "        <th>Sampling frequency</th>\n",
       "        <td>1000.00 Hz</td>\n",
       "    </tr>\n",
       "    <tr>\n",
       "        <th>Highpass</th>\n",
       "        <td>0.10 Hz</td>\n",
       "    </tr>\n",
       "    <tr>\n",
       "        <th>Lowpass</th>\n",
       "        <td>500.00 Hz</td>\n",
       "    </tr>\n",
       "\n",
       "    <tr>\n",
       "        <th>Filenames</th>\n",
       "        <td>SSVEP1.dat</td>\n",
       "    </tr>\n",
       "    <tr>\n",
       "        <th>Duration</th>\n",
       "        <td>00:07:38 (HH:MM:SS)</td>\n",
       "    </tr>\n",
       "</table>\n"
      ],
      "text/plain": [
       "<RawCurry | SSVEP1.dat, 122 x 458500 (458.5 s), ~426.9 MB, data loaded>"
      ]
     },
     "execution_count": 4,
     "metadata": {},
     "output_type": "execute_result"
    }
   ],
   "source": [
    "#apply BP filter and nouch filter\n",
    "raw.load_data().notch_filter(np.arange(50,500,50),verbose=False)\n",
    "raw.filter(l_freq=0.1,h_freq=None,method='iir')"
   ]
  },
  {
   "cell_type": "code",
   "execution_count": null,
   "id": "7a7ab44a",
   "metadata": {},
   "outputs": [],
   "source": [
    "# Annotation Function\n",
    "#define duration each events\n",
    "def find_net_annotation(raw_filted):\n",
    "    raw=raw_filted\n",
    "    for ann in range(17):\n",
    "        raw_filted.annotations.duration[ann]=raw.annotations[ann+1]['onset']-raw.annotations[ann]['onset']\n",
    "    # delete no need annotation \n",
    "    raw_filted.annotations.delete(np.arange(1,len(raw.annotations),2))\n",
    "    raw_filted.annotations.onset\n",
    "    #segmentation function\n",
    "    def segment_eeg_data(start=None,end=None,duration=None,description=None):\n",
    "        onset=list(np.arange(round(start),round(end),duration))\n",
    "        return onset,[duration for j in range(len(onset))],[description for i in range(len(onset))]\n",
    "    \n",
    "    #declare variable\n",
    "    onset=raw_filted.annotations.onset\n",
    "    duration=raw_filted.annotations.duration\n",
    "    labels=raw_filted.annotations.description\n",
    "    end=np.round(onset+duration)\n",
    "    onset_new=[]\n",
    "    duration_new=[]\n",
    "    descrip_new=[]\n",
    "    for on,end,labs in zip(onset,end,labels):\n",
    "        s,d,p=segment_eeg_data(start=on,end=end,duration=1,description=labs)\n",
    "        onset_new.append(s)\n",
    "        duration_new.append(d)\n",
    "        descrip_new.append(p)\n",
    "        \n",
    "    #reshape data\n",
    "    onset=[]\n",
    "    duration=[]\n",
    "    labels=[]\n",
    "    for re in np.arange(len(onset_new)):\n",
    "        onset=onset+onset_new[re]\n",
    "        duration=duration+duration_new[re]\n",
    "        labels=labels+descrip_new[re]\n",
    "        \n",
    "    #create annotation\n",
    "    my_annot = mne.Annotations(onset=onset,  # in seconds\n",
    "                               duration=duration,  # in seconds, too\n",
    "                               description=labels)\n",
    "    \n",
    "    #Delete all old annotation\n",
    "    raw_filted.annotations.delete(np.arange(0,len(raw_filted.annotations),1))\n",
    "    \n",
    "    #Set new annotation\n",
    "    raw_filted.set_annotations(my_annot)\n",
    "    return raw_filted"
   ]
  },
  {
   "cell_type": "code",
   "execution_count": null,
   "id": "c70b839d",
   "metadata": {},
   "outputs": [],
   "source": [
    "raw=find_net_annotation(raw.copy())"
   ]
  },
  {
   "cell_type": "markdown",
   "id": "3521b505",
   "metadata": {},
   "source": [
    "## Epoch process "
   ]
  },
  {
   "cell_type": "code",
   "execution_count": null,
   "id": "9eac0872",
   "metadata": {},
   "outputs": [],
   "source": [
    "event,_id=mne.events_from_annotations(raw)"
   ]
  },
  {
   "cell_type": "code",
   "execution_count": null,
   "id": "d421149c",
   "metadata": {},
   "outputs": [],
   "source": [
    "pick_chs=[\n",
    "    'P7',\n",
    " 'P9',\n",
    " 'P11',\n",
    " 'PO11',\n",
    " 'PO9',\n",
    " 'PPO7',\n",
    " 'P5',\n",
    " 'P3',\n",
    " 'PO3',\n",
    " 'POO7',\n",
    " 'POO9h',\n",
    " 'POO11h',\n",
    " 'OI1',\n",
    " 'POO3',\n",
    " 'PO1',\n",
    " 'PPO1',\n",
    " 'PPOz',\n",
    " 'POz',\n",
    " 'POOz',\n",
    " 'Oz',\n",
    " 'OI2',\n",
    " 'POO4',\n",
    " 'PO2',\n",
    " 'PPO2',\n",
    " 'P4',\n",
    " 'PO4',\n",
    " 'POO8',\n",
    " 'POO10h',\n",
    " 'POO12h',\n",
    " 'PO12',\n",
    " 'PO10',\n",
    " 'PPO8',\n",
    " 'P6',\n",
    " 'P8',\n",
    " 'P10',\n",
    " 'P12',\n",
    "          ]"
   ]
  },
  {
   "cell_type": "code",
   "execution_count": null,
   "id": "eb409840",
   "metadata": {},
   "outputs": [],
   "source": [
    "event_id={'10Hz':1,\n",
    "          '20Hz':2,\n",
    "          '30Hz':3\n",
    "}"
   ]
  },
  {
   "cell_type": "code",
   "execution_count": null,
   "id": "50453fff",
   "metadata": {},
   "outputs": [],
   "source": [
    "epochs=mne.Epochs(raw,event,event_id,tmin=-0.1,tmax=1,picks=pick_chs)\n",
    "del raw"
   ]
  },
  {
   "cell_type": "code",
   "execution_count": null,
   "id": "9be4cbe4",
   "metadata": {
    "scrolled": true
   },
   "outputs": [],
   "source": [
    "epochs.load_data().filter(l_freq=4,h_freq=40,method='iir')"
   ]
  },
  {
   "cell_type": "code",
   "execution_count": null,
   "id": "a4189234",
   "metadata": {
    "scrolled": false
   },
   "outputs": [],
   "source": [
    "epochs.set_eeg_reference(ref_channels='average',verbose=False)"
   ]
  },
  {
   "cell_type": "markdown",
   "id": "1bd252e4",
   "metadata": {},
   "source": [
    "## Preprocess data "
   ]
  },
  {
   "cell_type": "code",
   "execution_count": null,
   "id": "302a1016",
   "metadata": {},
   "outputs": [],
   "source": [
    "from sklearn.model_selection import train_test_split\n",
    "from sklearn.pipeline import make_pipeline\n",
    "from sklearn.preprocessing import StandardScaler\n",
    "from sklearn.metrics import confusion_matrix,classification_report\n",
    "## mne decoding library\n",
    "from mne.decoding import Vectorizer,cross_val_multiscore,get_coef,Scaler"
   ]
  },
  {
   "cell_type": "code",
   "execution_count": null,
   "id": "85b6adea",
   "metadata": {},
   "outputs": [],
   "source": [
    "X=epochs.get_data()\n",
    "y=epochs.events[:,-1]"
   ]
  },
  {
   "cell_type": "code",
   "execution_count": null,
   "id": "eafdfb33",
   "metadata": {},
   "outputs": [],
   "source": [
    "X_train, X_test, y_train, y_test = train_test_split(X, y, test_size=0.3, random_state=101)"
   ]
  },
  {
   "cell_type": "code",
   "execution_count": null,
   "id": "02c00c77",
   "metadata": {},
   "outputs": [],
   "source": [
    "scaler=Scaler(epochs1.info)\n",
    "scaler.fit(X_train,X_train.shape[0])\n",
    "X_train=scaler.transform(X_train)\n",
    "X_test=scaler.transform(X_test)\n",
    "\n",
    "del epochs"
   ]
  },
  {
   "cell_type": "markdown",
   "id": "d011e6dc",
   "metadata": {},
   "source": [
    "##  EEGnet algorithm"
   ]
  },
  {
   "cell_type": "code",
   "execution_count": null,
   "id": "3520771b",
   "metadata": {},
   "outputs": [],
   "source": [
    "from EEGModels import EEGNet\n",
    "from tensorflow.keras.models import Model\n",
    "from tensorflow.keras.callbacks import ModelCheckpoint\n",
    "from tensorflow.keras import utils as np_utils"
   ]
  },
  {
   "cell_type": "code",
   "execution_count": null,
   "id": "4099392a",
   "metadata": {},
   "outputs": [],
   "source": [
    "kernels,chans,samples=1,X.shape[1],X.shape[2]"
   ]
  },
  {
   "cell_type": "code",
   "execution_count": null,
   "id": "aa0c6d99",
   "metadata": {},
   "outputs": [],
   "source": [
    "class_weigths={0:1, 1:1, 2:1, 3:1}"
   ]
  },
  {
   "cell_type": "code",
   "execution_count": null,
   "id": "f6317dcd",
   "metadata": {},
   "outputs": [],
   "source": [
    "yc_train = np_utils.to_categorical(y_train-1)\n",
    "yc_test = np_utils.to_categorical(y_test-1)"
   ]
  },
  {
   "cell_type": "code",
   "execution_count": null,
   "id": "8b4b5826",
   "metadata": {},
   "outputs": [],
   "source": [
    "#reshape X\n",
    "Xc_train=X_train.reshape(X_train.shape[0],chans,samples,kernels)\n",
    "Xc_test=X_test.reshape(X_test.shape[0],chans,samples,kernels)"
   ]
  },
  {
   "cell_type": "code",
   "execution_count": null,
   "id": "c7416671",
   "metadata": {},
   "outputs": [],
   "source": [
    "model=EEGNet(nb_classes=3,Chans=chans,Samples=samples,dropoutRate=0.5,\n",
    "            kernLength=250,F1=8,D=2,F2=16,dropoutType='Dropout')"
   ]
  },
  {
   "cell_type": "code",
   "execution_count": null,
   "id": "72975ecb",
   "metadata": {},
   "outputs": [],
   "source": [
    "#model.compile(loss='CategoricalCrossentropy',optimizer='adam',metrics='accuracy')\n",
    "model.compile(loss='categorical_crossentropy', optimizer='adam', metrics=[\"accuracy\"])"
   ]
  },
  {
   "cell_type": "code",
   "execution_count": null,
   "id": "60f599c8",
   "metadata": {},
   "outputs": [],
   "source": [
    "numParams=model.count_params()"
   ]
  },
  {
   "cell_type": "code",
   "execution_count": null,
   "id": "e91dc372",
   "metadata": {},
   "outputs": [],
   "source": [
    "checkpointer=ModelCheckpoint(filepath='Users\\OWNER\\Desktop\\Arthit Learn to Analysis EEG.h5',verbose=1,save_best_only=True)"
   ]
  },
  {
   "cell_type": "code",
   "execution_count": null,
   "id": "e8f41364",
   "metadata": {
    "scrolled": true
   },
   "outputs": [],
   "source": [
    "fittedmodel=model.fit(Xc_train,yc_train,batch_size=16,epochs=500,verbose=2,\n",
    "                      validation_data=(Xc_test,yc_test),callbacks=[checkpointer],class_weight=class_weigths)"
   ]
  },
  {
   "cell_type": "code",
   "execution_count": null,
   "id": "09e08d62",
   "metadata": {},
   "outputs": [],
   "source": [
    "model.load_weights('Users\\OWNER\\Desktop\\Arthit Learn to Analysis EEG.h5')"
   ]
  },
  {
   "cell_type": "code",
   "execution_count": null,
   "id": "9f092ad6",
   "metadata": {},
   "outputs": [],
   "source": [
    "probs=model.predict(Xc_test)\n",
    "preds=probs.argmax(axis=-1)\n",
    "acc=np.mean(preds==yc_test.argmax(axis=-1))"
   ]
  },
  {
   "cell_type": "code",
   "execution_count": null,
   "id": "c7e9f63b",
   "metadata": {},
   "outputs": [],
   "source": [
    "acc"
   ]
  },
  {
   "cell_type": "code",
   "execution_count": null,
   "id": "f20a26c3",
   "metadata": {},
   "outputs": [],
   "source": [
    "preds=preds+1"
   ]
  },
  {
   "cell_type": "code",
   "execution_count": null,
   "id": "d82c54cd",
   "metadata": {},
   "outputs": [],
   "source": [
    "preds"
   ]
  },
  {
   "cell_type": "code",
   "execution_count": null,
   "id": "8129a5fe",
   "metadata": {},
   "outputs": [],
   "source": [
    "print(confusion_matrix(y_test,preds))\n",
    "print(classification_report(y_test,preds))"
   ]
  },
  {
   "cell_type": "code",
   "execution_count": null,
   "id": "c5058f40",
   "metadata": {},
   "outputs": [],
   "source": [
    "preds"
   ]
  },
  {
   "cell_type": "markdown",
   "id": "cbed226d",
   "metadata": {},
   "source": [
    "## plot History"
   ]
  },
  {
   "cell_type": "code",
   "execution_count": null,
   "id": "2369f2f6",
   "metadata": {},
   "outputs": [],
   "source": [
    "plt.plot(fittedmodel.history['accuracy'])\n",
    "plt.plot(fittedmodel.history['val_accuracy'])\n",
    "plt.title('Model Accuracy')\n",
    "plt.xlabel('epoch')\n",
    "plt.ylabel('acc')\n",
    "plt.legend(['Train','varidation'],loc='lower right')\n",
    "plt.show()"
   ]
  },
  {
   "cell_type": "code",
   "execution_count": null,
   "id": "02f8b8f7",
   "metadata": {},
   "outputs": [],
   "source": [
    "#loss\n",
    "plt.plot(fittedmodel.history['loss'])\n",
    "plt.plot(fittedmodel.history['val_loss'])\n",
    "plt.title('Model loss')\n",
    "plt.xlabel('epoch')\n",
    "plt.ylabel('loss')\n",
    "plt.legend(['Train','varidation'],loc='lower right')\n",
    "plt.show()"
   ]
  },
  {
   "cell_type": "code",
   "execution_count": 5,
   "id": "04d63a98",
   "metadata": {},
   "outputs": [
    {
     "data": {
      "text/plain": [
       "array([[ 1.10150405e-04,  1.10550472e-04,  1.44053361e-04, ...,\n",
       "        -3.41800738e-05, -1.41459213e-05,  9.50308169e-07],\n",
       "       [ 4.32177087e-05,  4.12637551e-05,  7.26559527e-05, ...,\n",
       "        -2.46795593e-05, -1.49279428e-05, -4.78095089e-06],\n",
       "       [ 1.12370571e-05,  1.70044167e-05,  5.00505306e-05, ...,\n",
       "        -5.34684112e-06, -1.07805058e-05, -8.34536966e-06],\n",
       "       ...,\n",
       "       [ 4.64399551e-06, -1.30441068e-05,  3.62760068e-05, ...,\n",
       "        -9.04508158e-06, -1.68329740e-05,  3.48026024e-06],\n",
       "       [ 5.36105473e-06,  3.44322171e-05,  9.06772319e-05, ...,\n",
       "        -1.41225937e-05, -9.91998152e-06,  5.18781490e-06],\n",
       "       [ 2.67349622e-05,  9.64717411e-05,  1.13892765e-04, ...,\n",
       "        -2.61154645e-05, -1.62073753e-05, -2.30435577e-06]])"
      ]
     },
     "execution_count": 5,
     "metadata": {},
     "output_type": "execute_result"
    }
   ],
   "source": [
    "raw.get_data()"
   ]
  },
  {
   "cell_type": "code",
   "execution_count": null,
   "id": "cf3e86a7",
   "metadata": {},
   "outputs": [],
   "source": []
  }
 ],
 "metadata": {
  "kernelspec": {
   "display_name": "Python 3",
   "language": "python",
   "name": "python3"
  },
  "language_info": {
   "codemirror_mode": {
    "name": "ipython",
    "version": 3
   },
   "file_extension": ".py",
   "mimetype": "text/x-python",
   "name": "python",
   "nbconvert_exporter": "python",
   "pygments_lexer": "ipython3",
   "version": "3.8.8"
  }
 },
 "nbformat": 4,
 "nbformat_minor": 5
}
